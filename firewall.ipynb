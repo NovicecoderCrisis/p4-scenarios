{
 "cells": [
  {
   "cell_type": "markdown",
   "metadata": {},
   "source": [
    "# Firewall"
   ]
  },
  {
   "cell_type": "markdown",
   "metadata": {},
   "source": [
    "The network topology consists of one switch called **s1** and three hosts, **h1**, **h2** and **h2**. Their IP and MAC addresses can be found below."
   ]
  },
  {
   "cell_type": "markdown",
   "metadata": {},
   "source": [
    "![title](imgs/firewall.png)"
   ]
  },
  {
   "cell_type": "code",
   "execution_count": 1,
   "metadata": {},
   "outputs": [
    {
     "name": "stderr",
     "output_type": "stream",
     "text": [
      "*** Adding hosts\n",
      "*** Adding Switch\n",
      "*** Configuring WiFi Nodes\n",
      "*** Creating links\n",
      "*** Starting network\n",
      "*** Starting controller(s)\n",
      "\n",
      "*** Starting L2 nodes\n",
      "s1 "
     ]
    },
    {
     "name": "stdout",
     "output_type": "stream",
     "text": [
      "....⚡️ simple_switch_grpc @ 29690 thrift @ 50001\n"
     ]
    },
    {
     "name": "stderr",
     "output_type": "stream",
     "text": [
      "\n",
      "*** Running CLI\n",
      "*** Starting CLI:\n"
     ]
    },
    {
     "name": "stdout",
     "output_type": "stream",
     "text": [
      "mininet-wifi> s1 simple_switch_CLI --thrift-port 50001 <<<\"table_add MyIngress.check_ports set_direction 2 1 => 1\"\n"
     ]
    },
    {
     "name": "stderr",
     "output_type": "stream",
     "text": [
      "Obtaining JSON from switch...\n",
      "Done\n",
      "Control utility for runtime P4 table manipulation\n",
      "RuntimeCmd: Adding entry to exact match table MyIngress.check_ports\n",
      "match key:           EXACT-00:02\tEXACT-00:01\n",
      "action:              set_direction\n",
      "runtime data:        01\n",
      "Invalid table operation (DUPLICATE_ENTRY)\n",
      "RuntimeCmd: \n"
     ]
    },
    {
     "name": "stdout",
     "output_type": "stream",
     "text": [
      "mininet-wifi> s1 simple_switch_CLI --thrift-port 50001 <<<\"table_add MyIngress.check_ports set_direction 1 2 => 0\"\n"
     ]
    },
    {
     "name": "stderr",
     "output_type": "stream",
     "text": [
      "Obtaining JSON from switch...\n",
      "Done\n",
      "Control utility for runtime P4 table manipulation\n",
      "RuntimeCmd: Adding entry to exact match table MyIngress.check_ports\n",
      "match key:           EXACT-00:01\tEXACT-00:02\n",
      "action:              set_direction\n",
      "runtime data:        00\n",
      "Invalid table operation (DUPLICATE_ENTRY)\n",
      "RuntimeCmd: \n"
     ]
    },
    {
     "name": "stdout",
     "output_type": "stream",
     "text": [
      "mininet-wifi> h3 ping -c1 h1\n"
     ]
    },
    {
     "name": "stderr",
     "output_type": "stream",
     "text": [
      "PING 10.0.0.1 (10.0.0.1) 56(84) bytes of data.\n",
      "64 bytes from 10.0.0.1: icmp_seq=1 ttl=63 time=1.05 ms\n",
      "\n",
      "--- 10.0.0.1 ping statistics ---\n",
      "1 packets transmitted, 1 received, 0% packet loss, time 0ms\n",
      "rtt min/avg/max/mdev = 1.051/1.051/1.051/0.000 ms\n"
     ]
    },
    {
     "name": "stdout",
     "output_type": "stream",
     "text": [
      "mininet-wifi> h2 ping -c1 h1\n"
     ]
    },
    {
     "name": "stderr",
     "output_type": "stream",
     "text": [
      "PING 10.0.0.1 (10.0.0.1) 56(84) bytes of data.\n",
      "\n",
      "--- 10.0.0.1 ping statistics ---\n",
      "1 packets transmitted, 0 received, 100% packet loss, time 0ms\n",
      "\n"
     ]
    },
    {
     "name": "stdout",
     "output_type": "stream",
     "text": [
      "mininet-wifi> exit\n"
     ]
    },
    {
     "name": "stderr",
     "output_type": "stream",
     "text": [
      "*** Stopping network\n",
      "*** Stopping 0 controllers\n",
      "\n",
      "*** Stopping 3 links\n",
      "...\n",
      "*** Stopping switches/access points\n",
      "s1 \n",
      "*** Stopping nodes\n",
      "h1 h2 h3 \n",
      "\n",
      "*** Removing WiFi module and Configurations\n",
      "\n",
      "*** Done\n"
     ]
    }
   ],
   "source": [
    "#!/usr/bin/python\n",
    "\n",
    "import os\n",
    "\n",
    "from mininet.log import setLogLevel, info\n",
    "from mn_wifi.cli import CLI\n",
    "from mn_wifi.net import Mininet_wifi\n",
    "from mn_wifi.bmv2 import P4Switch\n",
    "\n",
    "\n",
    "def topology():\n",
    "    'Create a network.'\n",
    "    net = Mininet_wifi()\n",
    "\n",
    "    info('*** Adding hosts\\n')\n",
    "    h1 = net.addHost('h1', ip='10.0.0.1', mac=\"00:00:00:00:00:01\")\n",
    "    h2 = net.addHost('h2', ip='10.0.0.2', mac=\"00:00:00:00:00:02\")\n",
    "    h3 = net.addHost('h3', ip='10.0.0.3', mac=\"00:00:00:00:00:03\")\n",
    "\n",
    "    path = os.path.dirname(os.getcwd())\n",
    "    config = path + '/p4-scenarios/firewall.txt'\n",
    "    json_file = path + '/p4-scenarios/firewall.json'\n",
    "\n",
    "    info('*** Adding Switch\\n')\n",
    "    s1 = net.addSwitch('s1', cls=P4Switch, netcfg=True, thriftport=50001,\n",
    "                       json=json_file, switch_config=config)\n",
    "\n",
    "    info('*** Configuring WiFi Nodes\\n')\n",
    "    net.configureWifiNodes()\n",
    "\n",
    "    info('*** Creating links\\n')\n",
    "    net.addLink(h1, s1)\n",
    "    net.addLink(h2, s1)\n",
    "    net.addLink(h3, s1)\n",
    "\n",
    "    info('*** Starting network\\n')\n",
    "    net.start()\n",
    "    net.staticArp()\n",
    "\n",
    "    info('*** Running CLI\\n')\n",
    "    CLI(net)\n",
    "\n",
    "    info('*** Stopping network\\n')\n",
    "    net.stop()\n",
    "\n",
    "\n",
    "if __name__ == '__main__':\n",
    "    setLogLevel('info')\n",
    "    topology()"
   ]
  },
  {
   "cell_type": "markdown",
   "metadata": {},
   "source": [
    "**Great work!**"
   ]
  }
 ],
 "metadata": {
  "kernelspec": {
   "display_name": "Python 3",
   "language": "python",
   "name": "python3"
  },
  "language_info": {
   "codemirror_mode": {
    "name": "ipython",
    "version": 3
   },
   "file_extension": ".py",
   "mimetype": "text/x-python",
   "name": "python",
   "nbconvert_exporter": "python",
   "pygments_lexer": "ipython3",
   "version": "3.8.2"
  }
 },
 "nbformat": 4,
 "nbformat_minor": 4
}
