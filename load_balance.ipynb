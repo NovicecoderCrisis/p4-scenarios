{
 "cells": [
  {
   "cell_type": "markdown",
   "metadata": {},
   "source": [
    "# Load Balance"
   ]
  },
  {
   "cell_type": "markdown",
   "metadata": {},
   "source": [
    "The network topology consists of one switch called **s1** and three hosts, **h1**, **h2** and **h2**. Their IP and MAC addresses can be found below."
   ]
  },
  {
   "cell_type": "markdown",
   "metadata": {},
   "source": [
    "![title](imgs/load-balancing.png)"
   ]
  },
  {
   "cell_type": "code",
   "execution_count": 4,
   "metadata": {},
   "outputs": [
    {
     "name": "stderr",
     "output_type": "stream",
     "text": [
      "*** Adding hosts\n",
      "*** Adding Switch\n",
      "*** Configuring WiFi Nodes\n",
      "*** Creating links\n",
      "*** Starting network\n",
      "*** Starting controller(s)\n",
      "\n",
      "*** Starting L2 nodes\n",
      "s1 "
     ]
    },
    {
     "name": "stdout",
     "output_type": "stream",
     "text": [
      "....⚡️ simple_switch_grpc @ 27361 thrift @ 50001\n"
     ]
    },
    {
     "name": "stderr",
     "output_type": "stream",
     "text": [
      "\n",
      "*** Running CLI\n",
      "*** Starting CLI:\n"
     ]
    },
    {
     "name": "stdout",
     "output_type": "stream",
     "text": [
      "mininet-wifi> exit\n"
     ]
    },
    {
     "name": "stderr",
     "output_type": "stream",
     "text": [
      "*** Stopping network\n",
      "*** Stopping 0 controllers\n",
      "\n",
      "*** Stopping 3 links\n",
      "...\n",
      "*** Stopping switches/access points\n",
      "s1 \n",
      "*** Stopping nodes\n",
      "h1 h2 h3 \n",
      "\n",
      "*** Removing WiFi module and Configurations\n",
      "\n",
      "*** Done\n"
     ]
    }
   ],
   "source": [
    "#!/usr/bin/python\n",
    "\n",
    "\n",
    "import os\n",
    "from time import sleep\n",
    "\n",
    "from mininet.log import setLogLevel, info\n",
    "from mn_wifi.cli import CLI\n",
    "from mn_wifi.net import Mininet_wifi\n",
    "from mn_wifi.bmv2 import ONOSBmv2Switch\n",
    "from mininet.term import makeTerm\n",
    "\n",
    "\n",
    "def topology():\n",
    "    'Create a network.'\n",
    "    net = Mininet_wifi()\n",
    "\n",
    "    info('*** Adding hosts\\n')\n",
    "    h1 = net.addHost('h1', ip='10.0.0.1', mac=\"00:00:00:00:00:01\")\n",
    "    h2 = net.addHost('h2', ip='10.0.0.2', mac=\"00:00:00:00:00:02\")\n",
    "    h3 = net.addHost('h3', ip='10.0.0.3', mac=\"00:00:00:00:00:03\")\n",
    "\n",
    "    path = os.path.dirname(os.getcwd())\n",
    "    json_file = path + '/p4-scenarios/load_balance.json'\n",
    "    config = path + '/p4-scenarios/load_balance.txt'\n",
    "\n",
    "    info('*** Adding Switch\\n')\n",
    "    s1 = net.addSwitch('s1', cls=ONOSBmv2Switch, netcfg=True, thriftport=50001,\n",
    "                       json=json_file, switch_config=config, loglevel='debug')\n",
    "\n",
    "    info('*** Configuring WiFi Nodes\\n')\n",
    "    net.configureWifiNodes()\n",
    "\n",
    "    info('*** Creating links\\n')\n",
    "    net.addLink(h1, s1)\n",
    "    net.addLink(h2, s1)\n",
    "    net.addLink(h3, s1)\n",
    "\n",
    "    info('*** Starting network\\n')\n",
    "    net.start()\n",
    "    net.staticArp()\n",
    "\n",
    "    # this is a fake mac address\n",
    "    h1.cmd('arp -s 10.0.0.100 01:00:00:00:00:01')\n",
    "\n",
    "    makeTerm(h2, title='server1', cmd=\"bash -c 'python load_balance_receive.py h2-eth0'\")\n",
    "    makeTerm(h3, title='server2', cmd=\"bash -c 'python load_balance_receive.py h3-eth0'\")\n",
    "    sleep(1)\n",
    "    makeTerm(h1, title='client', cmd=\"bash -c 'python load_balance_send.py 10.0.0.100 \"\n",
    "                                     \"\\\"P4 is cool\\\" h1-eth0'\")\n",
    "\n",
    "    info('*** Running CLI\\n')\n",
    "    CLI(net)\n",
    "\n",
    "    os.system('pkill -f \\\"xterm -title\\\"')\n",
    "\n",
    "    info('*** Stopping network\\n')\n",
    "    net.stop()\n",
    "\n",
    "\n",
    "if __name__ == '__main__':\n",
    "    setLogLevel('info')\n",
    "    topology()\n"
   ]
  },
  {
   "cell_type": "markdown",
   "metadata": {},
   "source": [
    "## How does it work?"
   ]
  },
  {
   "cell_type": "markdown",
   "metadata": {},
   "source": [
    "table_add MyIngress.ecmp_group set_ecmp_select 10.0.0.100/32 => 0 2  \n",
    "table_add MyIngress.ecmp_group set_ecmp_select 10.0.0.2/32 => 0 1  \n",
    "table_add MyIngress.ecmp_group set_ecmp_select 10.0.0.3/32 => 0 1  \n",
    "  \n",
    "table_add MyIngress.ecmp_nhop set_nhop 0 => 00:00:00:00:00:02 10.0.0.100 2  \n",
    "table_add MyIngress.ecmp_nhop set_nhop 1 => 00:00:00:00:00:03 10.0.0.100 3  "
   ]
  }
 ],
 "metadata": {
  "kernelspec": {
   "display_name": "Python 3",
   "language": "python",
   "name": "python3"
  },
  "language_info": {
   "codemirror_mode": {
    "name": "ipython",
    "version": 3
   },
   "file_extension": ".py",
   "mimetype": "text/x-python",
   "name": "python",
   "nbconvert_exporter": "python",
   "pygments_lexer": "ipython3",
   "version": "3.8.2"
  }
 },
 "nbformat": 4,
 "nbformat_minor": 4
}
