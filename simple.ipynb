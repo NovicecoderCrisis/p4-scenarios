{
 "cells": [
  {
   "cell_type": "markdown",
   "metadata": {},
   "source": [
    "# Simple network topology"
   ]
  },
  {
   "cell_type": "markdown",
   "metadata": {},
   "source": [
    "The network topology consists of one AP called ap1 and two stations, sta1 and sta2. Their IP and MAC addresses can be found below."
   ]
  },
  {
   "cell_type": "markdown",
   "metadata": {},
   "source": [
    "![title](imgs/simple.png)"
   ]
  },
  {
   "cell_type": "markdown",
   "metadata": {},
   "source": [
    "**Note**: the code you will find below can be simplified through the following command: `sudo mn --wifi --mac --arp --ap bmv2 --client-isolation --json-file=default`"
   ]
  },
  {
   "cell_type": "code",
   "execution_count": 1,
   "metadata": {},
   "outputs": [
    {
     "name": "stderr",
     "output_type": "stream",
     "text": [
      "*** Adding stations\n",
      "*** Adding P4APs\n",
      "*** Creating links\n",
      "*** Starting network\n",
      "*** Starting controller(s)\n",
      "\n",
      "*** Starting L2 nodes\n",
      "ap1 "
     ]
    },
    {
     "name": "stdout",
     "output_type": "stream",
     "text": [
      "..⚡️ simple_switch_grpc @ 13634 thrift @ 50001\n"
     ]
    },
    {
     "name": "stderr",
     "output_type": "stream",
     "text": [
      "\n",
      "*** Running CLI\n",
      "*** Starting CLI:\n"
     ]
    },
    {
     "name": "stdout",
     "output_type": "stream",
     "text": [
      "mininet-wifi>  ap1 simple_switch_CLI --thrift-port 50001 <<< \"show_tables\"\t\n"
     ]
    },
    {
     "name": "stderr",
     "output_type": "stream",
     "text": [
      "Obtaining JSON from switch...\n",
      "Done\n",
      "Control utility for runtime P4 table manipulation\n",
      "RuntimeCmd: MyIngress.ipv4_lpm             [implementation=None, mk=ipv4.dstAddr(exact, 32)]\n",
      "RuntimeCmd: \n"
     ]
    },
    {
     "name": "stdout",
     "output_type": "stream",
     "text": [
      "mininet-wifi>  ap1 simple_switch_CLI --thrift-port 50001 <<<  \"table_dump MyIngress.ipv4_lpm\"\n"
     ]
    },
    {
     "name": "stderr",
     "output_type": "stream",
     "text": [
      "Obtaining JSON from switch...\n",
      "Done\n",
      "Control utility for runtime P4 table manipulation\n",
      "RuntimeCmd: ==========\n",
      "TABLE ENTRIES\n",
      "==========\n",
      "Dumping default entry\n",
      "Action entry: NoAction - \n",
      "==========\n",
      "RuntimeCmd: \n"
     ]
    },
    {
     "name": "stdout",
     "output_type": "stream",
     "text": [
      "mininet-wifi>  sta1 ping -c1 sta2\n"
     ]
    },
    {
     "name": "stderr",
     "output_type": "stream",
     "text": [
      "PING 10.0.0.2 (10.0.0.2) 56(84) bytes of data.\n",
      "\n",
      "--- 10.0.0.2 ping statistics ---\n",
      "1 packets transmitted, 0 received, 100% packet loss, time 0ms\n",
      "\n"
     ]
    },
    {
     "name": "stdout",
     "output_type": "stream",
     "text": [
      "mininet-wifi> ap1 simple_switch_CLI --thrift-port 50001 <<< \"table_add MyIngress.ipv4_lpm ipv4_forward 10.0.0.1 => 00:00:00:00:00:01 1\"\n"
     ]
    },
    {
     "name": "stderr",
     "output_type": "stream",
     "text": [
      "Obtaining JSON from switch...\n",
      "Done\n",
      "Control utility for runtime P4 table manipulation\n",
      "RuntimeCmd: Adding entry to exact match table MyIngress.ipv4_lpm\n",
      "match key:           EXACT-0a:00:00:01\n",
      "action:              ipv4_forward\n",
      "runtime data:        00:00:00:00:00:01\t00:01\n",
      "Entry has been added with handle 0\n",
      "RuntimeCmd: \n"
     ]
    },
    {
     "name": "stdout",
     "output_type": "stream",
     "text": [
      "mininet-wifi> ap1 simple_switch_CLI --thrift-port 50001 <<< \"table_add MyIngress.ipv4_lpm ipv4_forward 10.0.0.2 => 00:00:00:00:00:02 1\"\n"
     ]
    },
    {
     "name": "stderr",
     "output_type": "stream",
     "text": [
      "Obtaining JSON from switch...\n",
      "Done\n",
      "Control utility for runtime P4 table manipulation\n",
      "RuntimeCmd: Adding entry to exact match table MyIngress.ipv4_lpm\n",
      "match key:           EXACT-0a:00:00:02\n",
      "action:              ipv4_forward\n",
      "runtime data:        00:00:00:00:00:02\t00:01\n",
      "Entry has been added with handle 1\n",
      "RuntimeCmd: \n"
     ]
    },
    {
     "name": "stdout",
     "output_type": "stream",
     "text": [
      "mininet-wifi> sta1 ping -c1 sta2\n"
     ]
    },
    {
     "name": "stderr",
     "output_type": "stream",
     "text": [
      "PING 10.0.0.2 (10.0.0.2) 56(84) bytes of data.\n",
      "64 bytes from 10.0.0.2: icmp_seq=1 ttl=63 time=0.641 ms\n",
      "\n",
      "--- 10.0.0.2 ping statistics ---\n",
      "1 packets transmitted, 1 received, 0% packet loss, time 0ms\n",
      "rtt min/avg/max/mdev = 0.641/0.641/0.641/0.000 ms\n"
     ]
    },
    {
     "name": "stdout",
     "output_type": "stream",
     "text": [
      "mininet-wifi> exit\n"
     ]
    },
    {
     "name": "stderr",
     "output_type": "stream",
     "text": [
      "*** Stopping network\n",
      "*** Stopping 0 controllers\n",
      "\n",
      "*** Stopping 2 links\n",
      "..\n",
      "*** Stopping switches/access points\n",
      "ap1 .\n",
      "*** Stopping nodes\n",
      "sta1 sta2 \n",
      "\n",
      "*** Removing WiFi module and Configurations\n",
      "*** Killing mac80211_hwsim\n",
      "\n",
      "*** Done\n"
     ]
    }
   ],
   "source": [
    "#!/usr/bin/python\n",
    "\n",
    "import os\n",
    "import sys\n",
    "\n",
    "from mininet.log import setLogLevel, info\n",
    "from mn_wifi.cli import CLI\n",
    "from mn_wifi.net import Mininet_wifi\n",
    "from mn_wifi.bmv2 import P4AP\n",
    "\n",
    "\n",
    "def topology():\n",
    "    'Create a network.'\n",
    "    net = Mininet_wifi()\n",
    "\n",
    "    info('*** Adding stations\\n')\n",
    "    sta1 = net.addStation('sta1', ip='10.0.0.1', mac=\"00:00:00:00:00:01\")\n",
    "    sta2 = net.addStation('sta2', ip='10.0.0.2', mac=\"00:00:00:00:00:02\")\n",
    "\n",
    "    path = os.path.dirname(os.getcwd())\n",
    "    json_file = path + '/p4-scenarios/simple.json'\n",
    "    \n",
    "    info('*** Adding P4APs\\n')\n",
    "    ap1 = net.addAccessPoint('ap1', cls=P4AP, mac=\"00:00:00:00:00:03\",\n",
    "                             client_isolation=True, netcfg=True, \n",
    "                             thriftport=50001, json=json_file)\n",
    "\n",
    "    net.configureWifiNodes()\n",
    "\n",
    "    info('*** Creating links\\n')\n",
    "    net.addLink(sta1, ap1)\n",
    "    net.addLink(sta2, ap1)\n",
    "    \n",
    "    info('*** Starting network\\n')\n",
    "    net.start()\n",
    "    net.staticArp()\n",
    "\n",
    "    info('*** Running CLI\\n')\n",
    "    CLI(net)\n",
    "\n",
    "    info('*** Stopping network\\n')\n",
    "    net.stop()\n",
    "\n",
    "\n",
    "if __name__ == '__main__':\n",
    "    setLogLevel('info')\n",
    "    topology()"
   ]
  },
  {
   "cell_type": "markdown",
   "metadata": {},
   "source": [
    "**Great work!**"
   ]
  }
 ],
 "metadata": {
  "kernelspec": {
   "display_name": "Python 3",
   "language": "python",
   "name": "python3"
  },
  "language_info": {
   "codemirror_mode": {
    "name": "ipython",
    "version": 3
   },
   "file_extension": ".py",
   "mimetype": "text/x-python",
   "name": "python",
   "nbconvert_exporter": "python",
   "pygments_lexer": "ipython3",
   "version": "3.8.2"
  }
 },
 "nbformat": 4,
 "nbformat_minor": 4
}
