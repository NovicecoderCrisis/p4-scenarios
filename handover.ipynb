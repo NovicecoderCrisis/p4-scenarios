{
 "cells": [
  {
   "cell_type": "markdown",
   "metadata": {},
   "source": [
    "# Handover"
   ]
  },
  {
   "cell_type": "markdown",
   "metadata": {},
   "source": [
    "The network topology consists of one station, two aps, one switch and one host. Their IP and MAC addresses can be found below."
   ]
  },
  {
   "cell_type": "markdown",
   "metadata": {},
   "source": [
    "![title](imgs/handover.png)"
   ]
  },
  {
   "cell_type": "code",
   "execution_count": null,
   "metadata": {},
   "outputs": [],
   "source": [
    "# %matplotlib qt # opens plot in a new window"
   ]
  },
  {
   "cell_type": "code",
   "execution_count": 1,
   "metadata": {
    "scrolled": true
   },
   "outputs": [
    {
     "name": "stderr",
     "output_type": "stream",
     "text": [
      "*** Adding stations\n",
      "*** Adding P4APs\n",
      "*** Configuring propagation model\n",
      "*** Connecting to wmediumd server /var/run/wmediumd.sock\n",
      "*** Adding links\n",
      "*** Starting network\n"
     ]
    },
    {
     "data": {
      "image/png": "[encoded data removed]",
      "text/plain": [
       "<Figure size 432x288 with 1 Axes>"
      ]
     },
     "metadata": {},
     "output_type": "display_data"
    },
    {
     "name": "stderr",
     "output_type": "stream",
     "text": [
      "*** Starting controller(s)\n",
      "\n",
      "*** Starting L2 nodes\n",
      "s1 "
     ]
    },
    {
     "name": "stdout",
     "output_type": "stream",
     "text": [
      "..⚡️ simple_switch_grpc @ 80364 thrift @ 50003\n"
     ]
    },
    {
     "name": "stderr",
     "output_type": "stream",
     "text": [
      "ap1 "
     ]
    },
    {
     "name": "stdout",
     "output_type": "stream",
     "text": [
      "..⚡️ simple_switch_grpc @ 80382 thrift @ 50001\n"
     ]
    },
    {
     "name": "stderr",
     "output_type": "stream",
     "text": [
      "ap2 "
     ]
    },
    {
     "name": "stdout",
     "output_type": "stream",
     "text": [
      "..⚡️ simple_switch_grpc @ 80408 thrift @ 50002\n"
     ]
    },
    {
     "name": "stderr",
     "output_type": "stream",
     "text": [
      "\n",
      "*** Running CLI\n",
      "*** Starting CLI:\n"
     ]
    },
    {
     "name": "stdout",
     "output_type": "stream",
     "text": [
      "mininet-wifi> exit\n"
     ]
    },
    {
     "name": "stderr",
     "output_type": "stream",
     "text": [
      "*** Stopping network\n",
      "*** Stopping 0 controllers\n",
      "\n",
      "*** Stopping 5 links\n",
      ".....\n",
      "*** Stopping switches/access points\n",
      "s1 ap1 .ap2 .\n",
      "*** Stopping nodes\n",
      "h1 sta1 \n",
      "\n",
      "*** Removing WiFi module and Configurations\n",
      "*** Killing mac80211_hwsim\n",
      "\n",
      "*** Done\n"
     ]
    }
   ],
   "source": [
    "#!/usr/bin/python\n",
    "\n",
    "import os\n",
    "import sys\n",
    "\n",
    "from mininet.log import setLogLevel, info\n",
    "from mn_wifi.bmv2 import ONOSBmv2AP, ONOSBmv2Switch\n",
    "from mn_wifi.cli import CLI\n",
    "from mn_wifi.link import wmediumd\n",
    "from mn_wifi.net import Mininet_wifi\n",
    "from mininet.term import makeTerm\n",
    "from mn_wifi.wmediumdConnector import interference\n",
    "\n",
    "\n",
    "def topology():\n",
    "    'Create a network.'\n",
    "    net = Mininet_wifi(link=wmediumd, wmediumd_mode=interference)\n",
    "\n",
    "    info('*** Adding stations\\n')\n",
    "    sta1 = net.addStation('sta1', ip='10.0.0.1', mac=\"00:00:00:00:00:01\",\n",
    "                          bgscan_threshold=-70, s_inverval=1, l_interval=2,\n",
    "                          bgscan_module=\"simple\")\n",
    "    h1 = net.addHost('h1', ip='10.0.0.2', mac=\"00:00:00:00:00:02\")\n",
    "\n",
    "    path = os.path.dirname(os.getcwd())\n",
    "    json_file = path + '/p4-scenarios/handover.json'\n",
    "\n",
    "    info('*** Adding P4APs\\n')\n",
    "    ap1 = net.addAccessPoint('ap1', cls=ONOSBmv2AP, mac=\"00:00:00:00:00:03\",\n",
    "                             ssid='handover', channel=1, position='40,40,0',\n",
    "                             passwd='123456789a', encrypt='wpa2', bssid_list=[['00:00:00:00:00:04']],\n",
    "                             ieee80211r=True, mobility_domain='a1b2',\n",
    "                             netcfg=True, thriftport=50001, json=json_file)\n",
    "    ap2 = net.addAccessPoint('ap2', cls=ONOSBmv2AP, mac=\"00:00:00:00:00:04\",\n",
    "                             ssid='handover', channel=6, position='80,40,0',\n",
    "                             passwd='123456789a', encrypt='wpa2', bssid_list=[['00:00:00:00:00:03']],\n",
    "                             ieee80211r=True, mobility_domain='a1b2',\n",
    "                             netcfg=True, thriftport=50002, json=json_file)\n",
    "    s1 = net.addSwitch('s1', cls=ONOSBmv2Switch, mac=\"00:00:00:00:00:05\",\n",
    "                       netcfg=True, thriftport=50003, json=json_file)\n",
    "\n",
    "    info(\"*** Configuring propagation model\\n\")\n",
    "    net.setPropagationModel(model=\"logDistance\", exp=4)\n",
    "\n",
    "    net.configureWifiNodes()\n",
    "\n",
    "    info(\"*** Adding links\\n\")\n",
    "    net.addLink(s1, ap1)\n",
    "    net.addLink(s1, ap2)\n",
    "    net.addLink(s1, h1)\n",
    "\n",
    "    net.plotGraph(max_x=200, max_y=200)\n",
    "\n",
    "    net.startMobility(time=0)\n",
    "    net.mobility(sta1, 'start', time=1, position='10,30,0')\n",
    "    net.mobility(sta1, 'stop', time=59, position='110,30,0')\n",
    "    net.stopMobility(time=60)\n",
    "\n",
    "    info('*** Starting network\\n')\n",
    "    net.start()\n",
    "    net.staticArp()    \n",
    "    \n",
    "    ap1.cmd('iw dev ap1-wlan1 interface add mon1 type monitor')\n",
    "    ap2.cmd('iw dev ap2-wlan1 interface add mon2 type monitor')\n",
    "    ap1.cmd('ip link set mon1 up')\n",
    "    ap2.cmd('ip link set mon2 up')\n",
    "\n",
    "    makeTerm(ap1, cmd=\"bash -c 'python handover-controller.py mon1 3;'\")\n",
    "    makeTerm(ap2, cmd=\"bash -c 'python handover-controller.py mon2 4;'\")\n",
    "    makeTerm(sta1, cmd=\"bash -c 'ping 10.0.0.2;'\")\n",
    "\n",
    "    info('*** Running CLI\\n')\n",
    "    CLI(net)\n",
    "\n",
    "    os.system('pkill -f -9 \\\"xterm\\\"')\n",
    "\n",
    "    info('*** Stopping network\\n')\n",
    "    net.stop()\n",
    "\n",
    "\n",
    "if __name__ == '__main__':\n",
    "    setLogLevel('info')\n",
    "    topology()"
   ]
  },
  {
   "cell_type": "markdown",
   "metadata": {},
   "source": [
    "**Great work!**"
   ]
  }
 ],
 "metadata": {
  "kernelspec": {
   "display_name": "Python 3",
   "language": "python",
   "name": "python3"
  },
  "language_info": {
   "codemirror_mode": {
    "name": "ipython",
    "version": 3
   },
   "file_extension": ".py",
   "mimetype": "text/x-python",
   "name": "python",
   "nbconvert_exporter": "python",
   "pygments_lexer": "ipython3",
   "version": "3.8.2"
  }
 },
 "nbformat": 4,
 "nbformat_minor": 4
}
