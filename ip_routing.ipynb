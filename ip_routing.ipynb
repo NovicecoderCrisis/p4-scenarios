{
 "cells": [
  {
   "cell_type": "markdown",
   "metadata": {},
   "source": [
    "# IP Routing"
   ]
  },
  {
   "cell_type": "markdown",
   "metadata": {},
   "source": [
    "The network topology consists of one router called **r1** and two hosts, **h1** and **h2**. Their IP and MAC addresses can be found below."
   ]
  },
  {
   "cell_type": "markdown",
   "metadata": {},
   "source": [
    "![title](imgs/routing.png)"
   ]
  },
  {
   "cell_type": "markdown",
   "metadata": {},
   "source": [
    "The code and steps presented below will establish communication between **h1** and **h2**."
   ]
  },
  {
   "cell_type": "code",
   "execution_count": null,
   "metadata": {
    "scrolled": true
   },
   "outputs": [
    {
     "name": "stderr",
     "output_type": "stream",
     "text": [
      "*** Adding stations/hosts\n",
      "*** Adding P4 Switch\n",
      "*** Creating links\n",
      "*** Starting network\n",
      "*** Starting controller(s)\n",
      "\n",
      "*** Starting L2 nodes\n",
      "r1 "
     ]
    },
    {
     "name": "stdout",
     "output_type": "stream",
     "text": [
      "....⚡️ simple_switch_grpc @ 43699 thrift @ 50001\n"
     ]
    },
    {
     "name": "stderr",
     "output_type": "stream",
     "text": [
      "\n",
      "*** Running CLI\n",
      "*** Starting CLI:\n"
     ]
    },
    {
     "name": "stdout",
     "output_type": "stream",
     "text": [
      "mininet-wifi> r1 simple_switch_CLI --thrift-port 50001 <<< \"table_add MyIngress.ipv4_lpm ipv4_forward 10.0.1.1/32 => 00:00:00:00:00:01 1\"\n"
     ]
    },
    {
     "name": "stderr",
     "output_type": "stream",
     "text": [
      "Obtaining JSON from switch...\n",
      "Done\n",
      "Control utility for runtime P4 table manipulation\n",
      "RuntimeCmd: Adding entry to lpm match table MyIngress.ipv4_lpm\n",
      "match key:           LPM-0a:00:01:01/32\n",
      "action:              ipv4_forward\n",
      "runtime data:        00:00:00:00:00:01\t00:01\n",
      "Entry has been added with handle 0\n",
      "RuntimeCmd: \n"
     ]
    },
    {
     "name": "stdout",
     "output_type": "stream",
     "text": [
      "mininet-wifi> r1 simple_switch_CLI --thrift-port 50001 <<< \"table_add MyIngress.ipv4_lpm ipv4_forward 10.0.2.1/32 => 00:00:00:00:00:02 2\"\n"
     ]
    },
    {
     "name": "stderr",
     "output_type": "stream",
     "text": [
      "Obtaining JSON from switch...\n",
      "Done\n",
      "Control utility for runtime P4 table manipulation\n",
      "RuntimeCmd: Adding entry to lpm match table MyIngress.ipv4_lpm\n",
      "match key:           LPM-0a:00:02:01/32\n",
      "action:              ipv4_forward\n",
      "runtime data:        00:00:00:00:00:02\t00:02\n",
      "Entry has been added with handle 1\n",
      "RuntimeCmd: \n"
     ]
    },
    {
     "name": "stdout",
     "output_type": "stream",
     "text": [
      "mininet-wifi> h1 ping -c1 h2\n"
     ]
    },
    {
     "name": "stderr",
     "output_type": "stream",
     "text": [
      "ping: connect: Network is unreachable\n"
     ]
    },
    {
     "name": "stdout",
     "output_type": "stream",
     "text": [
      "mininet-wifi> h1 route -n\n"
     ]
    },
    {
     "name": "stderr",
     "output_type": "stream",
     "text": [
      "Kernel IP routing table\n",
      "Destination     Gateway         Genmask         Flags Metric Ref    Use Iface\n",
      "10.0.1.0        0.0.0.0         255.255.255.0   U     0      0        0 h1-eth0\n"
     ]
    },
    {
     "name": "stdout",
     "output_type": "stream",
     "text": [
      "mininet-wifi> h1 route add default gw 10.0.1.254 dev h1-eth0\n",
      "mininet-wifi> h2 route add default gw 10.0.2.254 dev h2-eth0\n",
      "mininet-wifi> h1 ping -c1 h2\n"
     ]
    },
    {
     "name": "stderr",
     "output_type": "stream",
     "text": [
      "PING 10.0.2.1 (10.0.2.1) 56(84) bytes of data.\n",
      "From 10.0.1.1 icmp_seq=1 Destination Host Unreachable\n",
      "\n",
      "--- 10.0.2.1 ping statistics ---\n",
      "1 packets transmitted, 0 received, +1 errors, 100% packet loss, time 0ms\n",
      "\n"
     ]
    },
    {
     "name": "stdout",
     "output_type": "stream",
     "text": [
      "mininet-wifi> py r1.intfs[1].mac\n"
     ]
    },
    {
     "name": "stderr",
     "output_type": "stream",
     "text": [
      "4e:64:f9:9f:dd:3f\n"
     ]
    },
    {
     "name": "stdout",
     "output_type": "stream",
     "text": [
      "mininet-wifi> py r1.intfs[2].mac\n"
     ]
    },
    {
     "name": "stderr",
     "output_type": "stream",
     "text": [
      "7a:c7:f0:2f:c1:1b\n"
     ]
    },
    {
     "name": "stdout",
     "output_type": "stream",
     "text": [
      "mininet-wifi> h1 arp -i h1-eth0 -s 10.0.1.254 4e:64:f9:9f:dd:3f\n",
      "mininet-wifi> h2 arp -i h2-eth0 -s 10.0.2.254 7a:c7:f0:2f:c1:1b\n",
      "mininet-wifi> h1 ping -c1 h2\n"
     ]
    },
    {
     "name": "stderr",
     "output_type": "stream",
     "text": [
      "PING 10.0.2.1 (10.0.2.1) 56(84) bytes of data.\n",
      "64 bytes from 10.0.2.1: icmp_seq=1 ttl=63 time=4.30 ms\n",
      "\n",
      "--- 10.0.2.1 ping statistics ---\n",
      "1 packets transmitted, 1 received, 0% packet loss, time 0ms\n",
      "rtt min/avg/max/mdev = 4.304/4.304/4.304/0.000 ms\n"
     ]
    }
   ],
   "source": [
    "#!/usr/bin/python\n",
    "\n",
    "import os\n",
    "\n",
    "from mininet.log import setLogLevel, info\n",
    "from mn_wifi.cli import CLI\n",
    "from mn_wifi.net import Mininet_wifi\n",
    "from mn_wifi.bmv2 import P4Switch\n",
    "\n",
    "\n",
    "def topology():\n",
    "    'Create a network.'\n",
    "    net = Mininet_wifi()\n",
    "\n",
    "    info('*** Adding stations/hosts\\n')\n",
    "    h1 = net.addHost('h1', ip='10.0.1.1/24', mac=\"00:00:00:00:00:01\")\n",
    "    h2 = net.addHost('h2', ip='10.0.2.1/24', mac=\"00:00:00:00:00:02\")\n",
    "\n",
    "    path = os.path.dirname(os.getcwd())\n",
    "    json_file = path + '/p4-scenarios/routing.json'\n",
    "\n",
    "    info('*** Adding P4 Switch\\n')\n",
    "    r1 = net.addSwitch('r1', cls=P4Switch, netcfg=True,\n",
    "                       json=json_file, thriftport=50001)\n",
    "\n",
    "    info('*** Creating links\\n')\n",
    "    net.addLink(h1, r1)\n",
    "    net.addLink(h2, r1)\n",
    "\n",
    "    info('*** Starting network\\n')\n",
    "    net.start()\n",
    "\n",
    "    info('*** Running CLI\\n')\n",
    "    CLI(net)\n",
    "\n",
    "    info('*** Stopping network\\n')\n",
    "    net.stop()\n",
    "\n",
    "\n",
    "if __name__ == '__main__':\n",
    "    setLogLevel('info')\n",
    "    topology()"
   ]
  },
  {
   "cell_type": "markdown",
   "metadata": {},
   "source": [
    "**Great work!**"
   ]
  }
 ],
 "metadata": {
  "kernelspec": {
   "display_name": "Python 3",
   "language": "python",
   "name": "python3"
  },
  "language_info": {
   "codemirror_mode": {
    "name": "ipython",
    "version": 3
   },
   "file_extension": ".py",
   "mimetype": "text/x-python",
   "name": "python",
   "nbconvert_exporter": "python",
   "pygments_lexer": "ipython3",
   "version": "3.8.2"
  }
 },
 "nbformat": 4,
 "nbformat_minor": 4
}
